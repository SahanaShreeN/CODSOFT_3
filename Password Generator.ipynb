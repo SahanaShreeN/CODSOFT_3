{
 "cells": [
  {
   "cell_type": "code",
   "execution_count": 6,
   "id": "42e8302c",
   "metadata": {},
   "outputs": [
    {
     "name": "stdout",
     "output_type": "stream",
     "text": [
      "Enter the desired length of the password: 9\n",
      "Enter the desired complexity of the password (low, medium, or high): high\n",
      "Your generated password is: Cat1t6GN!\n"
     ]
    }
   ],
   "source": [
    "import random\n",
    "\n",
    "def generate_password(password_length, complexity):\n",
    "    password_characters = \"abcdefghijklmnopqrstuvwxyzABCDEFGHIJKLMNOPQRSTUVWXYZ0123456789!@#$%^&*()\"\n",
    "\n",
    "    if complexity == \"medium\":\n",
    "        password_characters += \"ABCDEFGHIJKLMNOPQRSTUVWXYZ!@#$%^&*()\"\n",
    "\n",
    "    if complexity == \"high\":\n",
    "        password_characters += \",.<>/?;:'\\\"\"\n",
    "\n",
    "    password = \"\"\n",
    "    for i in range(password_length):\n",
    "        password += random.choice(password_characters)\n",
    "    return password\n",
    "\n",
    "password_length = int(input(\"Enter the desired length of the password: \"))\n",
    "\n",
    "complexity = input(\"Enter the desired complexity of the password (low, medium, or high): \")\n",
    "\n",
    "password = generate_password(password_length, complexity)\n",
    "\n",
    "print(\"Your generated password is:\", password)\n"
   ]
  },
  {
   "cell_type": "code",
   "execution_count": null,
   "id": "79f5f4ed",
   "metadata": {},
   "outputs": [],
   "source": []
  }
 ],
 "metadata": {
  "kernelspec": {
   "display_name": "Python 3 (ipykernel)",
   "language": "python",
   "name": "python3"
  },
  "language_info": {
   "codemirror_mode": {
    "name": "ipython",
    "version": 3
   },
   "file_extension": ".py",
   "mimetype": "text/x-python",
   "name": "python",
   "nbconvert_exporter": "python",
   "pygments_lexer": "ipython3",
   "version": "3.11.4"
  }
 },
 "nbformat": 4,
 "nbformat_minor": 5
}
